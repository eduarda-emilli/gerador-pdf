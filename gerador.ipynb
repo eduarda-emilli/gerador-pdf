{
 "cells": [
  {
   "attachments": {},
   "cell_type": "markdown",
   "metadata": {},
   "source": [
    "### Gerador de orçamento"
   ]
  },
  {
   "cell_type": "code",
   "execution_count": 61,
   "metadata": {},
   "outputs": [],
   "source": [
    "from fpdf import FPDF\n",
    "from pynput import mouse"
   ]
  },
  {
   "attachments": {},
   "cell_type": "markdown",
   "metadata": {},
   "source": [
    "### Entrada de dados\n",
    "\n",
    "- Descrião de Produtos\n",
    "- Preço \n",
    "- Formas de pagamento\n",
    "- Prazo de entrega\n",
    "- Total"
   ]
  },
  {
   "cell_type": "code",
   "execution_count": null,
   "metadata": {},
   "outputs": [],
   "source": [
    "# Descrição de produtos\n",
    "produto_n1 = input('Informe a descrição do produto nº 01: ')\n",
    "produto_n2 = input('Informe a descrição do produto nº 02: ')\n",
    "produto_n3 = input('Informe a descrição do produto nº 03: ')\n",
    "\n",
    "print(f'{produto_n1}')\n",
    "print(f'{produto_n2}')\n",
    "print(f'{produto_n3}')"
   ]
  },
  {
   "cell_type": "code",
   "execution_count": 62,
   "metadata": {},
   "outputs": [
    {
     "name": "stdout",
     "output_type": "stream",
     "text": [
      "3.00\n",
      "4.00\n",
      "5.00\n",
      "3\n",
      "3\n",
      "3\n"
     ]
    }
   ],
   "source": [
    "# Descrição de produtos\n",
    "produto_n1 = input('Informe a descrição do produto nº 01: ')\n",
    "produto_n2 = input('Informe a descrição do produto nº 02: ')\n",
    "produto_n3 = input('Informe a descrição do produto nº 03: ')\n",
    "\n",
    "print(f'{produto_n1}')\n",
    "print(f'{produto_n2}')\n",
    "print(f'{produto_n3}')\n",
    "\n",
    "# Preços\n",
    "produto_preço_n1 = float(input('Preço nº 01: R$ '))\n",
    "produto_preço_n2 = float(input('Preço nº 02: R$ '))\n",
    "produto_preço_n3 = float(input('Preço nº 03: R$ '))\n",
    "\n",
    "print(f'{produto_preço_n1:.2f}')\n",
    "print(f'{produto_preço_n2:.2f}')\n",
    "print(f'{produto_preço_n3:.2f}')\n",
    "\n",
    "# Forma de pagamento\n",
    "forma_pagamento_n1 = str(input('Forma de pagamento produto nº 1: '))\n",
    "forma_pagamento_n2 = str(input('Forma de pagamento produto nº 2: '))\n",
    "forma_pagamento_n3 = str(input('Forma de pagamento produto nº 3: '))\n",
    "\n",
    "# Prazo de entrega\n",
    "prazo_entrega1 = str(input('Prazo de entrega produto nº 1: '))\n",
    "prazo_entrega2 = str(input('Prazo de entrega produto nº 2: '))\n",
    "prazo_entrega3 = str(input('Prazo de entrega produto nº 3: '))\n",
    "\n",
    "print(f'{prazo_entrega1}')\n",
    "print(f'{prazo_entrega2}')\n",
    "print(f'{prazo_entrega3}')\n"
   ]
  },
  {
   "attachments": {},
   "cell_type": "markdown",
   "metadata": {},
   "source": [
    "#### Coordenadas do Mouse"
   ]
  },
  {
   "cell_type": "code",
   "execution_count": 63,
   "metadata": {},
   "outputs": [
    {
     "name": "stdout",
     "output_type": "stream",
     "text": [
      "1117 578\n",
      "1127 577\n",
      "1128 576\n",
      "1129 576\n",
      "1129 576\n",
      "1129 576\n",
      "1129 576\n",
      "1129 576\n",
      "1129 576\n",
      "1129 576\n",
      "1129 576\n",
      "1129 576\n"
     ]
    }
   ],
   "source": [
    "cliques = 0\n",
    "\n",
    "def on_click(x, y, button, pressed):\n",
    "    global cliques\n",
    "    \n",
    "    if not pressed and button == mouse.Button.middle:\n",
    "        print(x, y,)\n",
    "        cliques += 1\n",
    "        \n",
    "        if cliques >= 12:\n",
    "            # Parar o código\n",
    "            return False\n",
    "        \n",
    "with mouse.Listener(on_click=on_click) as coordenadas:\n",
    "    coordenadas.join()"
   ]
  },
  {
   "cell_type": "code",
   "execution_count": 64,
   "metadata": {},
   "outputs": [],
   "source": [
    "#pdf = FPDF()\n",
    "#pdf.add_page()\n",
    "#pdf.set_font('Arial')\n",
    "#pdf.output('t.pdf', 't2.pdf', 't3.pdf')"
   ]
  }
 ],
 "metadata": {
  "kernelspec": {
   "display_name": ".venv",
   "language": "python",
   "name": "python3"
  },
  "language_info": {
   "codemirror_mode": {
    "name": "ipython",
    "version": 3
   },
   "file_extension": ".py",
   "mimetype": "text/x-python",
   "name": "python",
   "nbconvert_exporter": "python",
   "pygments_lexer": "ipython3",
   "version": "3.11.2"
  },
  "orig_nbformat": 4
 },
 "nbformat": 4,
 "nbformat_minor": 2
}
