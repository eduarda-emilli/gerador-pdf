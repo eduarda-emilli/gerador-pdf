{
 "cells": [
  {
   "attachments": {},
   "cell_type": "markdown",
   "metadata": {},
   "source": [
    "# Gerador de orçamento"
   ]
  },
  {
   "cell_type": "code",
   "execution_count": 1,
   "metadata": {},
   "outputs": [],
   "source": [
    "from fpdf import FPDF\n",
    "from pynput import mouse\n",
    "\n"
   ]
  },
  {
   "attachments": {},
   "cell_type": "markdown",
   "metadata": {},
   "source": [
    "### Entrada de dados\n",
    "\n",
    "- Descrião de Produtos\n",
    "- Preço \n",
    "- Formas de pagamento\n",
    "- Prazo de entrega\n",
    "- Total"
   ]
  },
  {
   "cell_type": "code",
   "execution_count": 2,
   "metadata": {},
   "outputs": [
    {
     "name": "stdout",
     "output_type": "stream",
     "text": [
      "Limpeza\n",
      "Troca de HD\n",
      "Reinstalar office\n",
      "190.00\n",
      "200.00\n",
      "300.00\n",
      "Total: R$690.00\n",
      "Pix\n",
      "Pix\n",
      "Pix\n",
      "2 dias\n",
      "2 dias\n",
      "-\n"
     ]
    }
   ],
   "source": [
    "# Descrição de produtos\n",
    "produto_n1 = input('Informe a descrição do produto nº 01: ')\n",
    "produto_n2 = input('Informe a descrição do produto nº 02: ')\n",
    "produto_n3 = input('Informe a descrição do produto nº 03: ')\n",
    "\n",
    "print(f'{produto_n1}')\n",
    "print(f'{produto_n2}')\n",
    "print(f'{produto_n3}')\n",
    "\n",
    "# Preços\n",
    "produto_preço_n1 = float(input('Preço nº 01: R$ '))\n",
    "produto_preço_n2 = float(input('Preço nº 02: R$ '))\n",
    "produto_preço_n3 = float(input('Preço nº 03: R$ '))\n",
    "\n",
    "print(f'{produto_preço_n1:.2f}')\n",
    "print(f'{produto_preço_n2:.2f}')\n",
    "print(f'{produto_preço_n3:.2f}')\n",
    "\n",
    "Total = produto_preço_n1 + produto_preço_n2 + produto_preço_n3\n",
    "\n",
    "print(f'Total: R${Total:.2f}')\n",
    "# Forma de pagamento\n",
    "forma_pagamento_n1 = str(input('Forma de pagamento produto nº 1: '))\n",
    "forma_pagamento_n2 = str(input( 'Forma de pagamento produto nº 2: '))\n",
    "forma_pagamento_n3 = str(input('Forma de pagamento produto nº 3: '))\n",
    "\n",
    "print(f'{forma_pagamento_n1}')\n",
    "print(f'{forma_pagamento_n2}')\n",
    "print(f'{forma_pagamento_n3}')\n",
    "\n",
    "# Prazo de entrega\n",
    "prazo_entrega1 = str(input('Prazo de entrega produto nº 1: '))\n",
    "prazo_entrega2 = str(input('Prazo de entrega produto nº 2: '))\n",
    "prazo_entrega3 = str(input('Prazo de entrega produto nº 3: '))\n",
    "\n",
    "print(f'{prazo_entrega1}')\n",
    "print(f'{prazo_entrega2}')\n",
    "print(f'{prazo_entrega3}')\n",
    "\n"
   ]
  },
  {
   "attachments": {},
   "cell_type": "markdown",
   "metadata": {},
   "source": [
    "## Gerando PDF"
   ]
  },
  {
   "cell_type": "code",
   "execution_count": 3,
   "metadata": {},
   "outputs": [
    {
     "data": {
      "text/plain": [
       "''"
      ]
     },
     "execution_count": 3,
     "metadata": {},
     "output_type": "execute_result"
    }
   ],
   "source": [
    "# Gerando PDF\n",
    "\n",
    "pdf = FPDF()\n",
    "pdf.add_page()\n",
    "#pdf.set_font('Arial', size=10)\n",
    "\n",
    "\n",
    "pdf. add_font ( 'Hanken' , '' , './fonts/HankenGrotesk-Light.ttf' , uni = True )\n",
    "pdf.set_font('Hanken', '', 10)\n",
    "\n",
    "\n",
    "\n",
    "image_path = './arquivos/template_01.jpg'\n",
    "original_width = 1414  # Largura original da imagem\n",
    "original_height = 2000  # Altura original da imagem\n",
    "# Define a largura e a altura desejadas para a imagem no PDF\n",
    "target_width = 210  \n",
    "target_height = 297  \n",
    "pdf.image(image_path, x=0, y=0, w=target_width, h=target_height)\n",
    "\n",
    "pdf.text(50.1, 157.88, produto_n1) # Descrição nº 1\n",
    "pdf.text(50.1, 180.14, produto_n2) # Descrição nº 2\n",
    "pdf.text(50.1, 201.99, produto_n3) # Descrição nº 3\n",
    "\n",
    "\n",
    "pdf.text(114, 157.88, 'R$ ' + format(produto_preço_n1, '.2f')) # Preço nº 1\n",
    "pdf.text(114, 180.14, 'R$ ' + format(produto_preço_n2, '.2f')) # Preço nº 2\n",
    "pdf.text(114, 201.99, 'R$ ' + format(produto_preço_n3, '.2f')) # Preço nº 2\n",
    "\n",
    "\n",
    "pdf.text(138, 157.88, forma_pagamento_n1) # Pagamento nº 1\n",
    "pdf.text(138, 180.14, forma_pagamento_n2) # Pagamento nº 2\n",
    "pdf.text(138, 201.99, forma_pagamento_n3) # Pagamento nº 2\n",
    "\n",
    "# Prazo\n",
    "pdf.text(168, 157.88, prazo_entrega1) # Prazo nº 1\n",
    "pdf.text(168, 180.14, prazo_entrega2) # Prazo nº 2\n",
    "pdf.text(168, 201.99, prazo_entrega3) # Prazo nº 3\n",
    "\n",
    "#Cash = 'R$ '\n",
    "\n",
    "# Total\n",
    "pdf.set_font_size(10)\n",
    "pdf.set_text_color(250)\n",
    "pdf.text(167, 218.9, 'R$ ' + format(Total, '.2f'))\n",
    "\n",
    "pdf.output('Orçamento.pdf')\n"
   ]
  },
  {
   "attachments": {},
   "cell_type": "markdown",
   "metadata": {},
   "source": [
    "#### Coordenadas do Mouse"
   ]
  },
  {
   "cell_type": "code",
   "execution_count": 4,
   "metadata": {},
   "outputs": [
    {
     "name": "stdout",
     "output_type": "stream",
     "text": [
      "863 556\n",
      "863 556\n",
      "863 556\n",
      "863 556\n",
      "863 556\n",
      "863 556\n",
      "863 556\n",
      "863 556\n",
      "863 556\n",
      "863 556\n"
     ]
    }
   ],
   "source": [
    "from pynput import mouse\n",
    "\n",
    "cliques = 0\n",
    "\n",
    "def on_click(x, y, button, pressed):\n",
    "    global cliques\n",
    "    \n",
    "    if not pressed and button == mouse.Button.middle:\n",
    "        print(x, y)\n",
    "        cliques += 1\n",
    "        \n",
    "        if cliques >= 10:\n",
    "            # Parar o código\n",
    "            return False\n",
    "\n",
    "listener = mouse.Listener(on_click=on_click)\n",
    "listener.start()\n",
    "listener.join()"
   ]
  },
  {
   "cell_type": "code",
   "execution_count": 5,
   "metadata": {},
   "outputs": [],
   "source": [
    "#pdf = FPDF()\n",
    "#pdf.add_page()\n",
    "#pdf.set_font('Arial')\n",
    "#pdf.output('t.pdf', 't2.pdf', 't3.pdf')"
   ]
  }
 ],
 "metadata": {
  "kernelspec": {
   "display_name": ".venv",
   "language": "python",
   "name": "python3"
  },
  "language_info": {
   "codemirror_mode": {
    "name": "ipython",
    "version": 3
   },
   "file_extension": ".py",
   "mimetype": "text/x-python",
   "name": "python",
   "nbconvert_exporter": "python",
   "pygments_lexer": "ipython3",
   "version": "3.11.4"
  },
  "orig_nbformat": 4
 },
 "nbformat": 4,
 "nbformat_minor": 2
}
